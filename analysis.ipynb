{
 "cells": [
  {
   "cell_type": "code",
   "execution_count": 2,
   "metadata": {
    "collapsed": false
   },
   "outputs": [
    {
     "name": "stderr",
     "output_type": "stream",
     "text": [
      "/home/ubuntu/work/code/external/scikit-learn/sklearn/cross_validation.py:43: DeprecationWarning: This module has been deprecated in favor of the model_selection module into which all the refactored classes and functions are moved. Also note that the interface of the new CV iterators are different from that of this module. This module will be removed in 0.20.\n",
      "  \"This module will be removed in 0.20.\", DeprecationWarning)\n"
     ]
    }
   ],
   "source": [
    "import pandas as pd\n",
    "import numpy as np\n",
    "from collections import defaultdict\n",
    "from sklearn.ensemble import RandomForestRegressor, GradientBoostingRegressor\n",
    "from sklearn.linear_model import LinearRegression\n",
    "from sklearn.svm import SVR\n",
    "from pyearth import Earth\n",
    "\n",
    "from tpot import TPOTRegressor\n",
    "\n"
   ]
  },
  {
   "cell_type": "code",
   "execution_count": 2,
   "metadata": {
    "collapsed": false
   },
   "outputs": [],
   "source": [
    "df = pd.read_csv('out.csv')\n",
    "\n",
    "def data_normalize(df):\n",
    "    cols = ['train_mean', 'train_std', 'test_mean', 'test_std']\n",
    "    for col in cols:\n",
    "        d = df.groupby('dataset')[col].max().to_dict()\n",
    "        for k, v in d.items():\n",
    "            df.loc[df['dataset']==k, col] /= v\n",
    "    return df\n"
   ]
  },
  {
   "cell_type": "code",
   "execution_count": 42,
   "metadata": {
    "collapsed": false
   },
   "outputs": [],
   "source": [
    "inputs = ['allow_linear', \n",
    "          'allow_missing',\n",
    "          'check_every', \n",
    "          'enable_pruning', \n",
    "          'endspan_alpha', \n",
    "          'max_degree', \n",
    "          'max_terms', \n",
    "          'minspan_alpha', \n",
    "          'penalty', \n",
    "          'smooth']\n",
    "outputs = [\n",
    "    'train_mean',\n",
    "    'train_std',\n",
    "    'test_mean',\n",
    "    'test_std'\n",
    "]"
   ]
  },
  {
   "cell_type": "code",
   "execution_count": 45,
   "metadata": {
    "collapsed": false
   },
   "outputs": [
    {
     "name": "stdout",
     "output_type": "stream",
     "text": [
      "data/uci_standard/ENB2012_data.csv\n",
      "0.0168615975557\n",
      "                   rss\n",
      "check_every        0.43   \n",
      "max_degree         0.43   \n",
      "allow_missing      0.08   \n",
      "smooth             0.02   \n",
      "endspan_alpha      0.02   \n",
      "minspan_alpha      0.00   \n",
      "penalty            0.00   \n",
      "max_terms          0.00   \n",
      "enable_pruning     0.00   \n",
      "allow_linear       0.00   \n",
      "\n",
      "data/uci_standard/CBM.csv\n",
      "0.176103692469\n",
      "                   rss\n",
      "allow_linear       0.24   \n",
      "penalty            0.16   \n",
      "minspan_alpha      0.14   \n",
      "check_every        0.13   \n",
      "enable_pruning     0.12   \n",
      "max_terms          0.10   \n",
      "max_degree         0.06   \n",
      "smooth             0.03   \n",
      "allow_missing      0.01   \n",
      "endspan_alpha      0.01   \n",
      "\n",
      "data/uci_standard/winequality-white.csv\n",
      "0.0287688652577\n",
      "                   rss\n",
      "max_terms          0.50   \n",
      "endspan_alpha      0.50   \n",
      "smooth             0.00   \n",
      "penalty            0.00   \n",
      "minspan_alpha      0.00   \n",
      "max_degree         0.00   \n",
      "enable_pruning     0.00   \n",
      "check_every        0.00   \n",
      "allow_missing      0.00   \n",
      "allow_linear       0.00   \n",
      "\n",
      "data/uci_standard/regression-datasets-kin8nm.csv\n",
      "0.0589798451818\n",
      "                   rss\n",
      "max_degree         0.29   \n",
      "penalty            0.28   \n",
      "minspan_alpha      0.16   \n",
      "endspan_alpha      0.09   \n",
      "max_terms          0.06   \n",
      "smooth             0.05   \n",
      "check_every        0.05   \n",
      "allow_linear       0.01   \n",
      "enable_pruning     0.01   \n",
      "allow_missing      0.01   \n",
      "\n",
      "data/uci_standard/CASP.csv\n",
      "0.247094657464\n",
      "                   rss\n",
      "endspan_alpha      0.48   \n",
      "minspan_alpha      0.31   \n",
      "penalty            0.09   \n",
      "max_terms          0.07   \n",
      "enable_pruning     0.02   \n",
      "check_every        0.01   \n",
      "allow_linear       0.00   \n",
      "allow_missing      0.00   \n",
      "smooth             0.00   \n",
      "max_degree         0.00   \n",
      "\n",
      "data/uci_standard/Concrete_Data.csv\n",
      "34.3770353331\n",
      "                   rss\n",
      "max_terms          0.38   \n",
      "minspan_alpha      0.24   \n",
      "penalty            0.09   \n",
      "max_degree         0.08   \n",
      "endspan_alpha      0.07   \n",
      "allow_missing      0.07   \n",
      "allow_linear       0.05   \n",
      "check_every        0.02   \n",
      "smooth             0.00   \n",
      "enable_pruning     0.00   \n",
      "\n",
      "data/uci_standard/winequality-red.csv\n",
      "0.0344942606953\n",
      "                   rss\n",
      "smooth             0.23   \n",
      "endspan_alpha      0.23   \n",
      "allow_linear       0.15   \n",
      "enable_pruning     0.12   \n",
      "penalty            0.10   \n",
      "check_every        0.09   \n",
      "minspan_alpha      0.04   \n",
      "max_terms          0.03   \n",
      "max_degree         0.00   \n",
      "allow_missing      0.00   \n",
      "\n",
      "data/uci_standard/housing.csv\n",
      "2.94392482433\n",
      "                   rss\n",
      "penalty            0.60   \n",
      "allow_linear       0.29   \n",
      "check_every        0.10   \n",
      "max_terms          0.01   \n",
      "allow_missing      0.00   \n",
      "enable_pruning     0.00   \n",
      "smooth             0.00   \n",
      "minspan_alpha      0.00   \n",
      "max_degree         0.00   \n",
      "endspan_alpha      0.00   \n",
      "\n",
      "data/uci_standard/yacht_hydrodynamics.csv\n",
      "10.0375529566\n",
      "                   rss\n",
      "endspan_alpha      0.32   \n",
      "allow_linear       0.19   \n",
      "check_every        0.13   \n",
      "minspan_alpha      0.13   \n",
      "allow_missing      0.06   \n",
      "smooth             0.05   \n",
      "enable_pruning     0.05   \n",
      "penalty            0.04   \n",
      "max_terms          0.03   \n",
      "max_degree         0.02   \n",
      "\n"
     ]
    }
   ],
   "source": [
    "score = defaultdict(lambda:1.)\n",
    "for dataset in df['dataset'].unique():\n",
    "    print(dataset)\n",
    "    df_ = df[df['dataset']==dataset].copy()\n",
    "    df_['train_mean'] /= df_['train_mean'].max()\n",
    "    \n",
    "    X, y = df_[inputs], df_[outputs]\n",
    "    y = y.values\n",
    "    \n",
    "    reg = Earth(feature_importance_type='rss', max_degree=10, max_terms=30)\n",
    "    #reg = TPOTRegressor(generations=2, population_size=2, verbosity=0)\n",
    "    reg.fit(X, y)\n",
    "    print(np.sqrt(((reg.predict(X) - y)**2).mean()))\n",
    "    \n",
    "    \n",
    "    a = pd.DataFrame({'labels': reg.xlabels_, 'imp': reg.feature_importances_}).sort_values(by='imp')\n",
    "    for label, imp in zip(reg.xlabels_, reg.feature_importances_):\n",
    "        score[label] += imp\n",
    "    print(reg.summary_feature_importances(sort_by='rss'))"
   ]
  },
  {
   "cell_type": "code",
   "execution_count": 46,
   "metadata": {
    "collapsed": false
   },
   "outputs": [
    {
     "name": "stdout",
     "output_type": "stream",
     "text": [
      "defaultdict(<function <lambda> at 0x7f6167bdfcf8>, {'penalty': 2.3679856508331523, 'max_terms': 2.1829504474538473, 'enable_pruning': 1.3175516469448572, 'endspan_alpha': 2.7172496759492177, 'smooth': 1.3771122645269545, 'max_degree': 1.8765253183188806, 'minspan_alpha': 2.0235133039084254, 'check_every': 1.977674610814244, 'allow_missing': 1.229250979275371, 'allow_linear': 1.9301861019750508})\n"
     ]
    },
    {
     "data": {
      "text/html": [
       "<div>\n",
       "<table border=\"1\" class=\"dataframe\">\n",
       "  <thead>\n",
       "    <tr style=\"text-align: right;\">\n",
       "      <th></th>\n",
       "      <th>imp</th>\n",
       "      <th>name</th>\n",
       "    </tr>\n",
       "  </thead>\n",
       "  <tbody>\n",
       "    <tr>\n",
       "      <th>3</th>\n",
       "      <td>2.717250</td>\n",
       "      <td>endspan_alpha</td>\n",
       "    </tr>\n",
       "    <tr>\n",
       "      <th>0</th>\n",
       "      <td>2.367986</td>\n",
       "      <td>penalty</td>\n",
       "    </tr>\n",
       "    <tr>\n",
       "      <th>1</th>\n",
       "      <td>2.182950</td>\n",
       "      <td>max_terms</td>\n",
       "    </tr>\n",
       "    <tr>\n",
       "      <th>6</th>\n",
       "      <td>2.023513</td>\n",
       "      <td>minspan_alpha</td>\n",
       "    </tr>\n",
       "    <tr>\n",
       "      <th>7</th>\n",
       "      <td>1.977675</td>\n",
       "      <td>check_every</td>\n",
       "    </tr>\n",
       "    <tr>\n",
       "      <th>9</th>\n",
       "      <td>1.930186</td>\n",
       "      <td>allow_linear</td>\n",
       "    </tr>\n",
       "    <tr>\n",
       "      <th>5</th>\n",
       "      <td>1.876525</td>\n",
       "      <td>max_degree</td>\n",
       "    </tr>\n",
       "    <tr>\n",
       "      <th>4</th>\n",
       "      <td>1.377112</td>\n",
       "      <td>smooth</td>\n",
       "    </tr>\n",
       "    <tr>\n",
       "      <th>2</th>\n",
       "      <td>1.317552</td>\n",
       "      <td>enable_pruning</td>\n",
       "    </tr>\n",
       "    <tr>\n",
       "      <th>8</th>\n",
       "      <td>1.229251</td>\n",
       "      <td>allow_missing</td>\n",
       "    </tr>\n",
       "  </tbody>\n",
       "</table>\n",
       "</div>"
      ],
      "text/plain": [
       "        imp            name\n",
       "3  2.717250   endspan_alpha\n",
       "0  2.367986         penalty\n",
       "1  2.182950       max_terms\n",
       "6  2.023513   minspan_alpha\n",
       "7  1.977675     check_every\n",
       "9  1.930186    allow_linear\n",
       "5  1.876525      max_degree\n",
       "4  1.377112          smooth\n",
       "2  1.317552  enable_pruning\n",
       "8  1.229251   allow_missing"
      ]
     },
     "execution_count": 46,
     "metadata": {},
     "output_type": "execute_result"
    }
   ],
   "source": [
    "print(score)\n",
    "pd.DataFrame({'name': score.keys(), 'imp': score.values()}).sort_values(by='imp', ascending=False)"
   ]
  },
  {
   "cell_type": "code",
   "execution_count": 16,
   "metadata": {
    "collapsed": false
   },
   "outputs": [
    {
     "data": {
      "text/plain": [
       "0.013437409728650677"
      ]
     },
     "execution_count": 16,
     "metadata": {},
     "output_type": "execute_result"
    }
   ],
   "source": [
    "from lightjob.cli import load_db\n",
    "db=load_db()\n",
    "j=db.get_job_by_summary('ebfc21b0a990da74650221bc557b50f5')\n",
    "np.std(np.sqrt(j['content']['result']['score_test']))"
   ]
  }
 ],
 "metadata": {
  "kernelspec": {
   "display_name": "Python 2",
   "language": "python",
   "name": "python2"
  },
  "language_info": {
   "codemirror_mode": {
    "name": "ipython",
    "version": 2
   },
   "file_extension": ".py",
   "mimetype": "text/x-python",
   "name": "python",
   "nbconvert_exporter": "python",
   "pygments_lexer": "ipython2",
   "version": "2.7.12"
  }
 },
 "nbformat": 4,
 "nbformat_minor": 0
}
